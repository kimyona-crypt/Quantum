{
  "nbformat": 4,
  "nbformat_minor": 0,
  "metadata": {
    "colab": {
      "name": "QOSF4.ipynb",
      "provenance": [],
      "collapsed_sections": []
    },
    "kernelspec": {
      "name": "python3",
      "display_name": "Python 3"
    }
  },
  "cells": [
    {
      "cell_type": "markdown",
      "metadata": {
        "id": "I8eUMhbbe6XD",
        "colab_type": "text"
      },
      "source": [
        "# **QOSF Screening Task** **2**  \n",
        "#### Implementing a circuit that returns |01> and |10> with equal probability (50% for each), with simulated noise, and parameters obtained via Gradient Descent.\n"
      ]
    },
    {
      "cell_type": "markdown",
      "metadata": {
        "id": "_SPCDbFvdcjH",
        "colab_type": "text"
      },
      "source": [
        "### Installing Requirements\n",
        "For circuit implementation and visualization we have installed qiskit. \n",
        "For finding right sets of parameters (theta and phi) using gradient descsent, we have installed pennylane and its qiskit plugin pennylane-qiskit.\n",
        "We then independently install Qiskit alongwith its visualization libraries."
      ]
    },
    {
      "cell_type": "code",
      "metadata": {
        "id": "sD-dcZllTuxm",
        "colab_type": "code",
        "colab": {
          "base_uri": "https://localhost:8080/",
          "height": 1000
        },
        "outputId": "12c4989b-e1da-4d95-e2aa-ed69fb508621"
      },
      "source": [
        "!pip install pennylane\n",
        "!pip install pennylane-qiskit\n",
        "!pip install qiskit[visualization]"
      ],
      "execution_count": null,
      "outputs": [
        {
          "output_type": "stream",
          "text": [
            "Collecting pennylane\n",
            "\u001b[?25l  Downloading https://files.pythonhosted.org/packages/e4/47/2774218a53908558eaedc34090b21b473932699bba17765510b43296a0bb/PennyLane-0.11.0-py3-none-any.whl (311kB)\n",
            "\u001b[K     |████████████████████████████████| 317kB 2.9MB/s \n",
            "\u001b[?25hRequirement already satisfied: scipy in /usr/local/lib/python3.6/dist-packages (from pennylane) (1.4.1)\n",
            "Requirement already satisfied: networkx in /usr/local/lib/python3.6/dist-packages (from pennylane) (2.5)\n",
            "Collecting appdirs\n",
            "  Downloading https://files.pythonhosted.org/packages/3b/00/2344469e2084fb287c2e0b57b72910309874c3245463acd6cf5e3db69324/appdirs-1.4.4-py2.py3-none-any.whl\n",
            "Collecting semantic-version==2.6\n",
            "  Downloading https://files.pythonhosted.org/packages/28/be/3a7241d731ba89063780279a5433f5971c1cf41735b64a9f874b7c3ff995/semantic_version-2.6.0-py3-none-any.whl\n",
            "Requirement already satisfied: autograd in /usr/local/lib/python3.6/dist-packages (from pennylane) (1.3)\n",
            "Requirement already satisfied: toml in /usr/local/lib/python3.6/dist-packages (from pennylane) (0.10.1)\n",
            "Requirement already satisfied: numpy in /usr/local/lib/python3.6/dist-packages (from pennylane) (1.18.5)\n",
            "Requirement already satisfied: decorator>=4.3.0 in /usr/local/lib/python3.6/dist-packages (from networkx->pennylane) (4.4.2)\n",
            "Requirement already satisfied: future>=0.15.2 in /usr/local/lib/python3.6/dist-packages (from autograd->pennylane) (0.16.0)\n",
            "Installing collected packages: appdirs, semantic-version, pennylane\n",
            "Successfully installed appdirs-1.4.4 pennylane-0.11.0 semantic-version-2.6.0\n",
            "Collecting pennylane-qiskit\n",
            "  Downloading https://files.pythonhosted.org/packages/ae/7c/39e99b30b91482ca0aa5b14223d058e53549327066bd24f6367cd0c42064/PennyLane_qiskit-0.11.0-py3-none-any.whl\n",
            "Requirement already satisfied: pennylane>=0.11.0 in /usr/local/lib/python3.6/dist-packages (from pennylane-qiskit) (0.11.0)\n",
            "Requirement already satisfied: numpy in /usr/local/lib/python3.6/dist-packages (from pennylane-qiskit) (1.18.5)\n",
            "Collecting pyscf<=1.7.2\n",
            "\u001b[?25l  Downloading https://files.pythonhosted.org/packages/de/2a/d873f799db054de9e6c1eddbcede03c099b196cc488ba8c8223719226066/pyscf-1.7.2-cp36-cp36m-manylinux1_x86_64.whl (26.0MB)\n",
            "\u001b[K     |████████████████████████████████| 26.0MB 165kB/s \n",
            "\u001b[?25hRequirement already satisfied: networkx>=2.2; python_version > \"3.5\" in /usr/local/lib/python3.6/dist-packages (from pennylane-qiskit) (2.5)\n",
            "Collecting qiskit>=0.20\n",
            "  Downloading https://files.pythonhosted.org/packages/cf/42/7aafc364f79f831df363d9058dbb745ba72dce2c4b142f2294bee46ab565/qiskit-0.21.0.tar.gz\n",
            "Requirement already satisfied: semantic-version==2.6 in /usr/local/lib/python3.6/dist-packages (from pennylane>=0.11.0->pennylane-qiskit) (2.6.0)\n",
            "Requirement already satisfied: scipy in /usr/local/lib/python3.6/dist-packages (from pennylane>=0.11.0->pennylane-qiskit) (1.4.1)\n",
            "Requirement already satisfied: appdirs in /usr/local/lib/python3.6/dist-packages (from pennylane>=0.11.0->pennylane-qiskit) (1.4.4)\n",
            "Requirement already satisfied: autograd in /usr/local/lib/python3.6/dist-packages (from pennylane>=0.11.0->pennylane-qiskit) (1.3)\n",
            "Requirement already satisfied: toml in /usr/local/lib/python3.6/dist-packages (from pennylane>=0.11.0->pennylane-qiskit) (0.10.1)\n",
            "Requirement already satisfied: h5py in /usr/local/lib/python3.6/dist-packages (from pyscf<=1.7.2->pennylane-qiskit) (2.10.0)\n",
            "Requirement already satisfied: decorator>=4.3.0 in /usr/local/lib/python3.6/dist-packages (from networkx>=2.2; python_version > \"3.5\"->pennylane-qiskit) (4.4.2)\n",
            "Collecting qiskit-terra==0.15.2\n",
            "\u001b[?25l  Downloading https://files.pythonhosted.org/packages/f5/b1/f72846fe069cc12cd2288b076aa366a0c20b6312b9d6c2535e8ea289eeee/qiskit_terra-0.15.2-cp36-cp36m-manylinux2010_x86_64.whl (8.3MB)\n",
            "\u001b[K     |████████████████████████████████| 8.3MB 41.0MB/s \n",
            "\u001b[?25hCollecting qiskit-aer==0.6.1\n",
            "\u001b[?25l  Downloading https://files.pythonhosted.org/packages/e8/76/3a52f423f9ac5adbc4353105e21b5dae3d4f8729f9baa4c6788aa7fff33c/qiskit_aer-0.6.1-cp36-cp36m-manylinux2010_x86_64.whl (16.5MB)\n",
            "\u001b[K     |████████████████████████████████| 16.5MB 247kB/s \n",
            "\u001b[?25hCollecting qiskit-ibmq-provider==0.9.0\n",
            "\u001b[?25l  Downloading https://files.pythonhosted.org/packages/d8/8d/4ce211659a04c71951f8b88b099ccadbddad35842309f78e31dbb98a9101/qiskit_ibmq_provider-0.9.0-py3-none-any.whl (170kB)\n",
            "\u001b[K     |████████████████████████████████| 174kB 47.5MB/s \n",
            "\u001b[?25hCollecting qiskit-ignis==0.4.0\n",
            "\u001b[?25l  Downloading https://files.pythonhosted.org/packages/d9/46/cad273535d470ed85378abcc757b1a26aa082dff91c8e273b212399c75ed/qiskit_ignis-0.4.0-py3-none-any.whl (172kB)\n",
            "\u001b[K     |████████████████████████████████| 174kB 45.7MB/s \n",
            "\u001b[?25hCollecting qiskit-aqua==0.7.5\n",
            "\u001b[?25l  Downloading https://files.pythonhosted.org/packages/80/86/3ba6bcfa241563c8ea82c2f48f2a9157d5b7e268896969ab49ca761b857e/qiskit_aqua-0.7.5-py3-none-any.whl (1.9MB)\n",
            "\u001b[K     |████████████████████████████████| 1.9MB 40.5MB/s \n",
            "\u001b[?25hRequirement already satisfied: future>=0.15.2 in /usr/local/lib/python3.6/dist-packages (from autograd->pennylane>=0.11.0->pennylane-qiskit) (0.16.0)\n",
            "Requirement already satisfied: six in /usr/local/lib/python3.6/dist-packages (from h5py->pyscf<=1.7.2->pennylane-qiskit) (1.15.0)\n",
            "Collecting retworkx>=0.4.0\n",
            "\u001b[?25l  Downloading https://files.pythonhosted.org/packages/b3/f9/febd0ce7add6e04e5757658c8a03e868c4ba27459b85c4b73755b858bf5f/retworkx-0.5.0-cp36-cp36m-manylinux2010_x86_64.whl (1.1MB)\n",
            "\u001b[K     |████████████████████████████████| 1.1MB 41.1MB/s \n",
            "\u001b[?25hCollecting fastjsonschema>=2.10\n",
            "  Downloading https://files.pythonhosted.org/packages/c7/47/e860ab658dc2da844e6fdb76b12f6b3e14fbcb62fdd04f3e1c572bca20e1/fastjsonschema-2.14.5-py3-none-any.whl\n",
            "Requirement already satisfied: jsonschema>=2.6 in /usr/local/lib/python3.6/dist-packages (from qiskit-terra==0.15.2->qiskit>=0.20->pennylane-qiskit) (2.6.0)\n",
            "Collecting sympy>=1.3\n",
            "\u001b[?25l  Downloading https://files.pythonhosted.org/packages/e0/1f/8cbbf698e853019ac3dc5d60ca8f6be4ace4542b2f05f7b62949617fc98e/sympy-1.6.2-py3-none-any.whl (5.8MB)\n",
            "\u001b[K     |████████████████████████████████| 5.8MB 42.0MB/s \n",
            "\u001b[?25hRequirement already satisfied: psutil>=5 in /usr/local/lib/python3.6/dist-packages (from qiskit-terra==0.15.2->qiskit>=0.20->pennylane-qiskit) (5.4.8)\n",
            "Requirement already satisfied: dill>=0.3 in /usr/local/lib/python3.6/dist-packages (from qiskit-terra==0.15.2->qiskit>=0.20->pennylane-qiskit) (0.3.2)\n",
            "Collecting contextvars>=2.4; python_version < \"3.7\"\n",
            "  Downloading https://files.pythonhosted.org/packages/83/96/55b82d9f13763be9d672622e1b8106c85acb83edd7cc2fa5bc67cd9877e9/contextvars-2.4.tar.gz\n",
            "Collecting ply>=3.10\n",
            "\u001b[?25l  Downloading https://files.pythonhosted.org/packages/a3/58/35da89ee790598a0700ea49b2a66594140f44dec458c07e8e3d4979137fc/ply-3.11-py2.py3-none-any.whl (49kB)\n",
            "\u001b[K     |████████████████████████████████| 51kB 5.8MB/s \n",
            "\u001b[?25hCollecting python-constraint>=1.4\n",
            "  Downloading https://files.pythonhosted.org/packages/37/8b/5f1bc2734ca611943e1d6733ee244238679f6410a10cd45ede55a61a8402/python-constraint-1.4.0.tar.bz2\n",
            "Requirement already satisfied: python-dateutil>=2.8.0 in /usr/local/lib/python3.6/dist-packages (from qiskit-terra==0.15.2->qiskit>=0.20->pennylane-qiskit) (2.8.1)\n",
            "Requirement already satisfied: cython>=0.27.1 in /usr/local/lib/python3.6/dist-packages (from qiskit-aer==0.6.1->qiskit>=0.20->pennylane-qiskit) (0.29.21)\n",
            "Collecting pybind11>=2.4\n",
            "\u001b[?25l  Downloading https://files.pythonhosted.org/packages/89/e3/d576f6f02bc75bacbc3d42494e8f1d063c95617d86648dba243c2cb3963e/pybind11-2.5.0-py2.py3-none-any.whl (296kB)\n",
            "\u001b[K     |████████████████████████████████| 296kB 45.0MB/s \n",
            "\u001b[?25hCollecting requests-ntlm>=1.1.0\n",
            "  Downloading https://files.pythonhosted.org/packages/03/4b/8b9a1afde8072c4d5710d9fa91433d504325821b038e00237dc8d6d833dc/requests_ntlm-1.1.0-py2.py3-none-any.whl\n",
            "Requirement already satisfied: urllib3>=1.21.1 in /usr/local/lib/python3.6/dist-packages (from qiskit-ibmq-provider==0.9.0->qiskit>=0.20->pennylane-qiskit) (1.24.3)\n",
            "Requirement already satisfied: requests>=2.19 in /usr/local/lib/python3.6/dist-packages (from qiskit-ibmq-provider==0.9.0->qiskit>=0.20->pennylane-qiskit) (2.23.0)\n",
            "Collecting websockets<8,>=7; python_version <= \"3.6\"\n",
            "\u001b[?25l  Downloading https://files.pythonhosted.org/packages/43/71/8bfa882b9c502c36e5c9ef6732969533670d2b039cbf95a82ced8f762b80/websockets-7.0-cp36-cp36m-manylinux1_x86_64.whl (63kB)\n",
            "\u001b[K     |████████████████████████████████| 71kB 8.2MB/s \n",
            "\u001b[?25hRequirement already satisfied: nest-asyncio!=1.1.0,>=1.0.0 in /usr/local/lib/python3.6/dist-packages (from qiskit-ibmq-provider==0.9.0->qiskit>=0.20->pennylane-qiskit) (1.4.0)\n",
            "Requirement already satisfied: setuptools>=40.1.0 in /usr/local/lib/python3.6/dist-packages (from qiskit-ignis==0.4.0->qiskit>=0.20->pennylane-qiskit) (50.3.0)\n",
            "Requirement already satisfied: scikit-learn>=0.17 in /usr/local/lib/python3.6/dist-packages (from qiskit-ignis==0.4.0->qiskit>=0.20->pennylane-qiskit) (0.22.2.post1)\n",
            "Collecting dlx\n",
            "  Downloading https://files.pythonhosted.org/packages/54/c0/b8fb5bb727e983b6f5251433ef941b48f38c65bb0bd6ec509e9185bcd406/dlx-1.0.4.tar.gz\n",
            "Requirement already satisfied: fastdtw in /usr/local/lib/python3.6/dist-packages (from qiskit-aqua==0.7.5->qiskit>=0.20->pennylane-qiskit) (0.3.4)\n",
            "Collecting yfinance\n",
            "  Downloading https://files.pythonhosted.org/packages/c2/31/8b374a12b90def92a4e27d0fc595fc43635f395984e36a075244d98bd265/yfinance-0.1.54.tar.gz\n",
            "Requirement already satisfied: pandas in /usr/local/lib/python3.6/dist-packages (from qiskit-aqua==0.7.5->qiskit>=0.20->pennylane-qiskit) (1.0.5)\n",
            "Collecting quandl\n",
            "  Downloading https://files.pythonhosted.org/packages/1b/29/185269dbd2e2698c8098b35c52ce73a2c52cf76163e709f9f7789d03ebbb/Quandl-3.5.2-py2.py3-none-any.whl\n",
            "Collecting docplex\n",
            "\u001b[?25l  Downloading https://files.pythonhosted.org/packages/9b/76/ebf5b75a25c4357c9a4758cae7fea778dd7f282b83c2f22e150dc7e3c852/docplex-2.15.194.tar.gz (582kB)\n",
            "\u001b[K     |████████████████████████████████| 583kB 37.3MB/s \n",
            "\u001b[?25hRequirement already satisfied: mpmath>=0.19 in /usr/local/lib/python3.6/dist-packages (from sympy>=1.3->qiskit-terra==0.15.2->qiskit>=0.20->pennylane-qiskit) (1.1.0)\n",
            "Collecting immutables>=0.9\n",
            "\u001b[?25l  Downloading https://files.pythonhosted.org/packages/99/e0/ea6fd4697120327d26773b5a84853f897a68e33d3f9376b00a8ff96e4f63/immutables-0.14-cp36-cp36m-manylinux1_x86_64.whl (98kB)\n",
            "\u001b[K     |████████████████████████████████| 102kB 10.1MB/s \n",
            "\u001b[?25hCollecting ntlm-auth>=1.0.2\n",
            "  Downloading https://files.pythonhosted.org/packages/ff/84/97c550164b54942b0e908c31ef09d9469f3ba4cd7332a671e2125732f63b/ntlm_auth-1.5.0-py2.py3-none-any.whl\n",
            "Collecting cryptography>=1.3\n",
            "\u001b[?25l  Downloading https://files.pythonhosted.org/packages/33/62/30f6936941d87a5ed72efb24249437824f6b2c953901245b58c91fde2f27/cryptography-3.1.1-cp35-abi3-manylinux2010_x86_64.whl (2.6MB)\n",
            "\u001b[K     |████████████████████████████████| 2.6MB 41.1MB/s \n",
            "\u001b[?25hRequirement already satisfied: chardet<4,>=3.0.2 in /usr/local/lib/python3.6/dist-packages (from requests>=2.19->qiskit-ibmq-provider==0.9.0->qiskit>=0.20->pennylane-qiskit) (3.0.4)\n",
            "Requirement already satisfied: idna<3,>=2.5 in /usr/local/lib/python3.6/dist-packages (from requests>=2.19->qiskit-ibmq-provider==0.9.0->qiskit>=0.20->pennylane-qiskit) (2.10)\n",
            "Requirement already satisfied: certifi>=2017.4.17 in /usr/local/lib/python3.6/dist-packages (from requests>=2.19->qiskit-ibmq-provider==0.9.0->qiskit>=0.20->pennylane-qiskit) (2020.6.20)\n",
            "Requirement already satisfied: joblib>=0.11 in /usr/local/lib/python3.6/dist-packages (from scikit-learn>=0.17->qiskit-ignis==0.4.0->qiskit>=0.20->pennylane-qiskit) (0.16.0)\n",
            "Requirement already satisfied: multitasking>=0.0.7 in /usr/local/lib/python3.6/dist-packages (from yfinance->qiskit-aqua==0.7.5->qiskit>=0.20->pennylane-qiskit) (0.0.9)\n",
            "Requirement already satisfied: pytz>=2017.2 in /usr/local/lib/python3.6/dist-packages (from pandas->qiskit-aqua==0.7.5->qiskit>=0.20->pennylane-qiskit) (2018.9)\n",
            "Collecting inflection>=0.3.1\n",
            "  Downloading https://files.pythonhosted.org/packages/59/91/aa6bde563e0085a02a435aa99b49ef75b0a4b062635e606dab23ce18d720/inflection-0.5.1-py2.py3-none-any.whl\n",
            "Requirement already satisfied: more-itertools in /usr/local/lib/python3.6/dist-packages (from quandl->qiskit-aqua==0.7.5->qiskit>=0.20->pennylane-qiskit) (8.5.0)\n",
            "Requirement already satisfied: cffi!=1.11.3,>=1.8 in /usr/local/lib/python3.6/dist-packages (from cryptography>=1.3->requests-ntlm>=1.1.0->qiskit-ibmq-provider==0.9.0->qiskit>=0.20->pennylane-qiskit) (1.14.2)\n",
            "Requirement already satisfied: pycparser in /usr/local/lib/python3.6/dist-packages (from cffi!=1.11.3,>=1.8->cryptography>=1.3->requests-ntlm>=1.1.0->qiskit-ibmq-provider==0.9.0->qiskit>=0.20->pennylane-qiskit) (2.20)\n",
            "Building wheels for collected packages: qiskit, contextvars, python-constraint, dlx, yfinance, docplex\n",
            "  Building wheel for qiskit (setup.py) ... \u001b[?25l\u001b[?25hdone\n",
            "  Created wheel for qiskit: filename=qiskit-0.21.0-cp36-none-any.whl size=2875 sha256=283441eae42be0dcd4860f21991ba06cd95b865017c492229fce51421aca8018\n",
            "  Stored in directory: /root/.cache/pip/wheels/f3/b7/87/cdde69a6f1be1a7d01c751eaae325e306e147d3a2e1a738b44\n",
            "  Building wheel for contextvars (setup.py) ... \u001b[?25l\u001b[?25hdone\n",
            "  Created wheel for contextvars: filename=contextvars-2.4-cp36-none-any.whl size=7666 sha256=98787f0b053eb3bada0f4cb1fa369636795e68e5bad187e968328be5a31ec3a6\n",
            "  Stored in directory: /root/.cache/pip/wheels/a5/7d/68/1ebae2668bda2228686e3c1cf16f2c2384cea6e9334ad5f6de\n",
            "  Building wheel for python-constraint (setup.py) ... \u001b[?25l\u001b[?25hdone\n",
            "  Created wheel for python-constraint: filename=python_constraint-1.4.0-py2.py3-none-any.whl size=24080 sha256=d094aeaf4419575039acf0ad7507e7e1a4188cb3496942f8c885dbabfa109c10\n",
            "  Stored in directory: /root/.cache/pip/wheels/34/31/15/7b070b25d0a549d20ce2e9fe6d727471c2c61ef904720fd40c\n",
            "  Building wheel for dlx (setup.py) ... \u001b[?25l\u001b[?25hdone\n",
            "  Created wheel for dlx: filename=dlx-1.0.4-cp36-none-any.whl size=5710 sha256=1e8e36aab39d3aff26fec3e2dbd83a73c02eef7d958c2aed4d4f7429d76eaba3\n",
            "  Stored in directory: /root/.cache/pip/wheels/bb/ba/15/fdd0deb104df3254912998150ba9245668db06b00af5912d1a\n",
            "  Building wheel for yfinance (setup.py) ... \u001b[?25l\u001b[?25hdone\n",
            "  Created wheel for yfinance: filename=yfinance-0.1.54-py2.py3-none-any.whl size=22409 sha256=bcd0feee39e5342d6b1ae3cd961bffa29236ae73af507a5e01eb14d62cfb2f0d\n",
            "  Stored in directory: /root/.cache/pip/wheels/f9/e3/5b/ec24dd2984b12d61e0abf26289746c2436a0e7844f26f2515c\n",
            "  Building wheel for docplex (setup.py) ... \u001b[?25l\u001b[?25hdone\n",
            "  Created wheel for docplex: filename=docplex-2.15.194-cp36-none-any.whl size=645115 sha256=1960e491288db25de03286f08e97c642eb9a485d99d3c2a44cda15f89eee618c\n",
            "  Stored in directory: /root/.cache/pip/wheels/ce/fa/5d/8f4d5fed1b8edb72e453cb2ac6fb75c6776b49d7174eb70457\n",
            "Successfully built qiskit contextvars python-constraint dlx yfinance docplex\n",
            "Installing collected packages: pyscf, retworkx, fastjsonschema, sympy, immutables, contextvars, ply, python-constraint, qiskit-terra, pybind11, qiskit-aer, ntlm-auth, cryptography, requests-ntlm, websockets, qiskit-ibmq-provider, qiskit-ignis, dlx, yfinance, inflection, quandl, docplex, qiskit-aqua, qiskit, pennylane-qiskit\n",
            "  Found existing installation: sympy 1.1.1\n",
            "    Uninstalling sympy-1.1.1:\n",
            "      Successfully uninstalled sympy-1.1.1\n",
            "Successfully installed contextvars-2.4 cryptography-3.1.1 dlx-1.0.4 docplex-2.15.194 fastjsonschema-2.14.5 immutables-0.14 inflection-0.5.1 ntlm-auth-1.5.0 pennylane-qiskit-0.11.0 ply-3.11 pybind11-2.5.0 pyscf-1.7.2 python-constraint-1.4.0 qiskit-0.21.0 qiskit-aer-0.6.1 qiskit-aqua-0.7.5 qiskit-ibmq-provider-0.9.0 qiskit-ignis-0.4.0 qiskit-terra-0.15.2 quandl-3.5.2 requests-ntlm-1.1.0 retworkx-0.5.0 sympy-1.6.2 websockets-7.0 yfinance-0.1.54\n",
            "Requirement already satisfied: qiskit[visualization] in /usr/local/lib/python3.6/dist-packages (0.21.0)\n",
            "Requirement already satisfied: qiskit-terra==0.15.2 in /usr/local/lib/python3.6/dist-packages (from qiskit[visualization]) (0.15.2)\n",
            "Requirement already satisfied: qiskit-ibmq-provider==0.9.0 in /usr/local/lib/python3.6/dist-packages (from qiskit[visualization]) (0.9.0)\n",
            "Requirement already satisfied: qiskit-ignis==0.4.0 in /usr/local/lib/python3.6/dist-packages (from qiskit[visualization]) (0.4.0)\n",
            "Requirement already satisfied: qiskit-aqua==0.7.5 in /usr/local/lib/python3.6/dist-packages (from qiskit[visualization]) (0.7.5)\n",
            "Requirement already satisfied: qiskit-aer==0.6.1 in /usr/local/lib/python3.6/dist-packages (from qiskit[visualization]) (0.6.1)\n",
            "Requirement already satisfied: ipywidgets>=7.3.0; extra == \"visualization\" in /usr/local/lib/python3.6/dist-packages (from qiskit[visualization]) (7.5.1)\n",
            "Requirement already satisfied: pillow>=4.2.1; extra == \"visualization\" in /usr/local/lib/python3.6/dist-packages (from qiskit[visualization]) (7.0.0)\n",
            "Requirement already satisfied: pygments>=2.4; extra == \"visualization\" in /usr/local/lib/python3.6/dist-packages (from qiskit[visualization]) (2.6.1)\n",
            "Requirement already satisfied: seaborn>=0.9.0; extra == \"visualization\" in /usr/local/lib/python3.6/dist-packages (from qiskit[visualization]) (0.10.1)\n",
            "Requirement already satisfied: pydot; extra == \"visualization\" in /usr/local/lib/python3.6/dist-packages (from qiskit[visualization]) (1.3.0)\n",
            "Collecting pylatexenc>=1.4; extra == \"visualization\"\n",
            "\u001b[?25l  Downloading https://files.pythonhosted.org/packages/97/68/6bbd9841e8fb2fb977594f7b8158a26dfd4016e078c865481848a4f0a7b1/pylatexenc-2.7.tar.gz (157kB)\n",
            "\u001b[K     |████████████████████████████████| 163kB 2.9MB/s \n",
            "\u001b[?25hRequirement already satisfied: matplotlib>=2.1; extra == \"visualization\" in /usr/local/lib/python3.6/dist-packages (from qiskit[visualization]) (3.2.2)\n",
            "Requirement already satisfied: ply>=3.10 in /usr/local/lib/python3.6/dist-packages (from qiskit-terra==0.15.2->qiskit[visualization]) (3.11)\n",
            "Requirement already satisfied: python-constraint>=1.4 in /usr/local/lib/python3.6/dist-packages (from qiskit-terra==0.15.2->qiskit[visualization]) (1.4.0)\n",
            "Requirement already satisfied: python-dateutil>=2.8.0 in /usr/local/lib/python3.6/dist-packages (from qiskit-terra==0.15.2->qiskit[visualization]) (2.8.1)\n",
            "Requirement already satisfied: retworkx>=0.4.0 in /usr/local/lib/python3.6/dist-packages (from qiskit-terra==0.15.2->qiskit[visualization]) (0.5.0)\n",
            "Requirement already satisfied: scipy>=1.4 in /usr/local/lib/python3.6/dist-packages (from qiskit-terra==0.15.2->qiskit[visualization]) (1.4.1)\n",
            "Requirement already satisfied: fastjsonschema>=2.10 in /usr/local/lib/python3.6/dist-packages (from qiskit-terra==0.15.2->qiskit[visualization]) (2.14.5)\n",
            "Requirement already satisfied: contextvars>=2.4; python_version < \"3.7\" in /usr/local/lib/python3.6/dist-packages (from qiskit-terra==0.15.2->qiskit[visualization]) (2.4)\n",
            "Requirement already satisfied: jsonschema>=2.6 in /usr/local/lib/python3.6/dist-packages (from qiskit-terra==0.15.2->qiskit[visualization]) (2.6.0)\n",
            "Requirement already satisfied: numpy>=1.17 in /usr/local/lib/python3.6/dist-packages (from qiskit-terra==0.15.2->qiskit[visualization]) (1.18.5)\n",
            "Requirement already satisfied: sympy>=1.3 in /usr/local/lib/python3.6/dist-packages (from qiskit-terra==0.15.2->qiskit[visualization]) (1.6.2)\n",
            "Requirement already satisfied: dill>=0.3 in /usr/local/lib/python3.6/dist-packages (from qiskit-terra==0.15.2->qiskit[visualization]) (0.3.2)\n",
            "Requirement already satisfied: psutil>=5 in /usr/local/lib/python3.6/dist-packages (from qiskit-terra==0.15.2->qiskit[visualization]) (5.4.8)\n",
            "Requirement already satisfied: networkx>=2.2; python_version > \"3.5\" in /usr/local/lib/python3.6/dist-packages (from qiskit-terra==0.15.2->qiskit[visualization]) (2.5)\n",
            "Requirement already satisfied: requests>=2.19 in /usr/local/lib/python3.6/dist-packages (from qiskit-ibmq-provider==0.9.0->qiskit[visualization]) (2.23.0)\n",
            "Requirement already satisfied: nest-asyncio!=1.1.0,>=1.0.0 in /usr/local/lib/python3.6/dist-packages (from qiskit-ibmq-provider==0.9.0->qiskit[visualization]) (1.4.0)\n",
            "Requirement already satisfied: requests-ntlm>=1.1.0 in /usr/local/lib/python3.6/dist-packages (from qiskit-ibmq-provider==0.9.0->qiskit[visualization]) (1.1.0)\n",
            "Requirement already satisfied: urllib3>=1.21.1 in /usr/local/lib/python3.6/dist-packages (from qiskit-ibmq-provider==0.9.0->qiskit[visualization]) (1.24.3)\n",
            "Requirement already satisfied: websockets<8,>=7; python_version <= \"3.6\" in /usr/local/lib/python3.6/dist-packages (from qiskit-ibmq-provider==0.9.0->qiskit[visualization]) (7.0)\n",
            "Requirement already satisfied: setuptools>=40.1.0 in /usr/local/lib/python3.6/dist-packages (from qiskit-ignis==0.4.0->qiskit[visualization]) (50.3.0)\n",
            "Requirement already satisfied: scikit-learn>=0.17 in /usr/local/lib/python3.6/dist-packages (from qiskit-ignis==0.4.0->qiskit[visualization]) (0.22.2.post1)\n",
            "Requirement already satisfied: quandl in /usr/local/lib/python3.6/dist-packages (from qiskit-aqua==0.7.5->qiskit[visualization]) (3.5.2)\n",
            "Requirement already satisfied: h5py in /usr/local/lib/python3.6/dist-packages (from qiskit-aqua==0.7.5->qiskit[visualization]) (2.10.0)\n",
            "Requirement already satisfied: fastdtw in /usr/local/lib/python3.6/dist-packages (from qiskit-aqua==0.7.5->qiskit[visualization]) (0.3.4)\n",
            "Requirement already satisfied: yfinance in /usr/local/lib/python3.6/dist-packages (from qiskit-aqua==0.7.5->qiskit[visualization]) (0.1.54)\n",
            "Requirement already satisfied: docplex in /usr/local/lib/python3.6/dist-packages (from qiskit-aqua==0.7.5->qiskit[visualization]) (2.15.194)\n",
            "Requirement already satisfied: pandas in /usr/local/lib/python3.6/dist-packages (from qiskit-aqua==0.7.5->qiskit[visualization]) (1.0.5)\n",
            "Requirement already satisfied: dlx in /usr/local/lib/python3.6/dist-packages (from qiskit-aqua==0.7.5->qiskit[visualization]) (1.0.4)\n",
            "Requirement already satisfied: pybind11>=2.4 in /usr/local/lib/python3.6/dist-packages (from qiskit-aer==0.6.1->qiskit[visualization]) (2.5.0)\n",
            "Requirement already satisfied: cython>=0.27.1 in /usr/local/lib/python3.6/dist-packages (from qiskit-aer==0.6.1->qiskit[visualization]) (0.29.21)\n",
            "Requirement already satisfied: ipykernel>=4.5.1 in /usr/local/lib/python3.6/dist-packages (from ipywidgets>=7.3.0; extra == \"visualization\"->qiskit[visualization]) (4.10.1)\n",
            "Requirement already satisfied: nbformat>=4.2.0 in /usr/local/lib/python3.6/dist-packages (from ipywidgets>=7.3.0; extra == \"visualization\"->qiskit[visualization]) (5.0.7)\n",
            "Requirement already satisfied: widgetsnbextension~=3.5.0 in /usr/local/lib/python3.6/dist-packages (from ipywidgets>=7.3.0; extra == \"visualization\"->qiskit[visualization]) (3.5.1)\n",
            "Requirement already satisfied: ipython>=4.0.0; python_version >= \"3.3\" in /usr/local/lib/python3.6/dist-packages (from ipywidgets>=7.3.0; extra == \"visualization\"->qiskit[visualization]) (5.5.0)\n",
            "Requirement already satisfied: traitlets>=4.3.1 in /usr/local/lib/python3.6/dist-packages (from ipywidgets>=7.3.0; extra == \"visualization\"->qiskit[visualization]) (4.3.3)\n",
            "Requirement already satisfied: pyparsing>=2.1.4 in /usr/local/lib/python3.6/dist-packages (from pydot; extra == \"visualization\"->qiskit[visualization]) (2.4.7)\n",
            "Requirement already satisfied: cycler>=0.10 in /usr/local/lib/python3.6/dist-packages (from matplotlib>=2.1; extra == \"visualization\"->qiskit[visualization]) (0.10.0)\n",
            "Requirement already satisfied: kiwisolver>=1.0.1 in /usr/local/lib/python3.6/dist-packages (from matplotlib>=2.1; extra == \"visualization\"->qiskit[visualization]) (1.2.0)\n",
            "Requirement already satisfied: six>=1.5 in /usr/local/lib/python3.6/dist-packages (from python-dateutil>=2.8.0->qiskit-terra==0.15.2->qiskit[visualization]) (1.15.0)\n",
            "Requirement already satisfied: immutables>=0.9 in /usr/local/lib/python3.6/dist-packages (from contextvars>=2.4; python_version < \"3.7\"->qiskit-terra==0.15.2->qiskit[visualization]) (0.14)\n",
            "Requirement already satisfied: mpmath>=0.19 in /usr/local/lib/python3.6/dist-packages (from sympy>=1.3->qiskit-terra==0.15.2->qiskit[visualization]) (1.1.0)\n",
            "Requirement already satisfied: decorator>=4.3.0 in /usr/local/lib/python3.6/dist-packages (from networkx>=2.2; python_version > \"3.5\"->qiskit-terra==0.15.2->qiskit[visualization]) (4.4.2)\n",
            "Requirement already satisfied: chardet<4,>=3.0.2 in /usr/local/lib/python3.6/dist-packages (from requests>=2.19->qiskit-ibmq-provider==0.9.0->qiskit[visualization]) (3.0.4)\n",
            "Requirement already satisfied: certifi>=2017.4.17 in /usr/local/lib/python3.6/dist-packages (from requests>=2.19->qiskit-ibmq-provider==0.9.0->qiskit[visualization]) (2020.6.20)\n",
            "Requirement already satisfied: idna<3,>=2.5 in /usr/local/lib/python3.6/dist-packages (from requests>=2.19->qiskit-ibmq-provider==0.9.0->qiskit[visualization]) (2.10)\n",
            "Requirement already satisfied: cryptography>=1.3 in /usr/local/lib/python3.6/dist-packages (from requests-ntlm>=1.1.0->qiskit-ibmq-provider==0.9.0->qiskit[visualization]) (3.1.1)\n",
            "Requirement already satisfied: ntlm-auth>=1.0.2 in /usr/local/lib/python3.6/dist-packages (from requests-ntlm>=1.1.0->qiskit-ibmq-provider==0.9.0->qiskit[visualization]) (1.5.0)\n",
            "Requirement already satisfied: joblib>=0.11 in /usr/local/lib/python3.6/dist-packages (from scikit-learn>=0.17->qiskit-ignis==0.4.0->qiskit[visualization]) (0.16.0)\n",
            "Requirement already satisfied: more-itertools in /usr/local/lib/python3.6/dist-packages (from quandl->qiskit-aqua==0.7.5->qiskit[visualization]) (8.5.0)\n",
            "Requirement already satisfied: inflection>=0.3.1 in /usr/local/lib/python3.6/dist-packages (from quandl->qiskit-aqua==0.7.5->qiskit[visualization]) (0.5.1)\n",
            "Requirement already satisfied: multitasking>=0.0.7 in /usr/local/lib/python3.6/dist-packages (from yfinance->qiskit-aqua==0.7.5->qiskit[visualization]) (0.0.9)\n",
            "Requirement already satisfied: pytz>=2017.2 in /usr/local/lib/python3.6/dist-packages (from pandas->qiskit-aqua==0.7.5->qiskit[visualization]) (2018.9)\n",
            "Requirement already satisfied: tornado>=4.0 in /usr/local/lib/python3.6/dist-packages (from ipykernel>=4.5.1->ipywidgets>=7.3.0; extra == \"visualization\"->qiskit[visualization]) (5.1.1)\n",
            "Requirement already satisfied: jupyter-client in /usr/local/lib/python3.6/dist-packages (from ipykernel>=4.5.1->ipywidgets>=7.3.0; extra == \"visualization\"->qiskit[visualization]) (5.3.5)\n",
            "Requirement already satisfied: ipython-genutils in /usr/local/lib/python3.6/dist-packages (from nbformat>=4.2.0->ipywidgets>=7.3.0; extra == \"visualization\"->qiskit[visualization]) (0.2.0)\n",
            "Requirement already satisfied: jupyter-core in /usr/local/lib/python3.6/dist-packages (from nbformat>=4.2.0->ipywidgets>=7.3.0; extra == \"visualization\"->qiskit[visualization]) (4.6.3)\n",
            "Requirement already satisfied: notebook>=4.4.1 in /usr/local/lib/python3.6/dist-packages (from widgetsnbextension~=3.5.0->ipywidgets>=7.3.0; extra == \"visualization\"->qiskit[visualization]) (5.3.1)\n",
            "Requirement already satisfied: simplegeneric>0.8 in /usr/local/lib/python3.6/dist-packages (from ipython>=4.0.0; python_version >= \"3.3\"->ipywidgets>=7.3.0; extra == \"visualization\"->qiskit[visualization]) (0.8.1)\n",
            "Requirement already satisfied: pexpect; sys_platform != \"win32\" in /usr/local/lib/python3.6/dist-packages (from ipython>=4.0.0; python_version >= \"3.3\"->ipywidgets>=7.3.0; extra == \"visualization\"->qiskit[visualization]) (4.8.0)\n",
            "Requirement already satisfied: prompt-toolkit<2.0.0,>=1.0.4 in /usr/local/lib/python3.6/dist-packages (from ipython>=4.0.0; python_version >= \"3.3\"->ipywidgets>=7.3.0; extra == \"visualization\"->qiskit[visualization]) (1.0.18)\n",
            "Requirement already satisfied: pickleshare in /usr/local/lib/python3.6/dist-packages (from ipython>=4.0.0; python_version >= \"3.3\"->ipywidgets>=7.3.0; extra == \"visualization\"->qiskit[visualization]) (0.7.5)\n",
            "Requirement already satisfied: cffi!=1.11.3,>=1.8 in /usr/local/lib/python3.6/dist-packages (from cryptography>=1.3->requests-ntlm>=1.1.0->qiskit-ibmq-provider==0.9.0->qiskit[visualization]) (1.14.2)\n",
            "Requirement already satisfied: pyzmq>=13 in /usr/local/lib/python3.6/dist-packages (from jupyter-client->ipykernel>=4.5.1->ipywidgets>=7.3.0; extra == \"visualization\"->qiskit[visualization]) (19.0.2)\n",
            "Requirement already satisfied: terminado>=0.8.1 in /usr/local/lib/python3.6/dist-packages (from notebook>=4.4.1->widgetsnbextension~=3.5.0->ipywidgets>=7.3.0; extra == \"visualization\"->qiskit[visualization]) (0.8.3)\n",
            "Requirement already satisfied: jinja2 in /usr/local/lib/python3.6/dist-packages (from notebook>=4.4.1->widgetsnbextension~=3.5.0->ipywidgets>=7.3.0; extra == \"visualization\"->qiskit[visualization]) (2.11.2)\n",
            "Requirement already satisfied: Send2Trash in /usr/local/lib/python3.6/dist-packages (from notebook>=4.4.1->widgetsnbextension~=3.5.0->ipywidgets>=7.3.0; extra == \"visualization\"->qiskit[visualization]) (1.5.0)\n",
            "Requirement already satisfied: nbconvert in /usr/local/lib/python3.6/dist-packages (from notebook>=4.4.1->widgetsnbextension~=3.5.0->ipywidgets>=7.3.0; extra == \"visualization\"->qiskit[visualization]) (5.6.1)\n",
            "Requirement already satisfied: ptyprocess>=0.5 in /usr/local/lib/python3.6/dist-packages (from pexpect; sys_platform != \"win32\"->ipython>=4.0.0; python_version >= \"3.3\"->ipywidgets>=7.3.0; extra == \"visualization\"->qiskit[visualization]) (0.6.0)\n",
            "Requirement already satisfied: wcwidth in /usr/local/lib/python3.6/dist-packages (from prompt-toolkit<2.0.0,>=1.0.4->ipython>=4.0.0; python_version >= \"3.3\"->ipywidgets>=7.3.0; extra == \"visualization\"->qiskit[visualization]) (0.2.5)\n",
            "Requirement already satisfied: pycparser in /usr/local/lib/python3.6/dist-packages (from cffi!=1.11.3,>=1.8->cryptography>=1.3->requests-ntlm>=1.1.0->qiskit-ibmq-provider==0.9.0->qiskit[visualization]) (2.20)\n",
            "Requirement already satisfied: MarkupSafe>=0.23 in /usr/local/lib/python3.6/dist-packages (from jinja2->notebook>=4.4.1->widgetsnbextension~=3.5.0->ipywidgets>=7.3.0; extra == \"visualization\"->qiskit[visualization]) (1.1.1)\n",
            "Requirement already satisfied: entrypoints>=0.2.2 in /usr/local/lib/python3.6/dist-packages (from nbconvert->notebook>=4.4.1->widgetsnbextension~=3.5.0->ipywidgets>=7.3.0; extra == \"visualization\"->qiskit[visualization]) (0.3)\n",
            "Requirement already satisfied: testpath in /usr/local/lib/python3.6/dist-packages (from nbconvert->notebook>=4.4.1->widgetsnbextension~=3.5.0->ipywidgets>=7.3.0; extra == \"visualization\"->qiskit[visualization]) (0.4.4)\n",
            "Requirement already satisfied: defusedxml in /usr/local/lib/python3.6/dist-packages (from nbconvert->notebook>=4.4.1->widgetsnbextension~=3.5.0->ipywidgets>=7.3.0; extra == \"visualization\"->qiskit[visualization]) (0.6.0)\n",
            "Requirement already satisfied: pandocfilters>=1.4.1 in /usr/local/lib/python3.6/dist-packages (from nbconvert->notebook>=4.4.1->widgetsnbextension~=3.5.0->ipywidgets>=7.3.0; extra == \"visualization\"->qiskit[visualization]) (1.4.2)\n",
            "Requirement already satisfied: mistune<2,>=0.8.1 in /usr/local/lib/python3.6/dist-packages (from nbconvert->notebook>=4.4.1->widgetsnbextension~=3.5.0->ipywidgets>=7.3.0; extra == \"visualization\"->qiskit[visualization]) (0.8.4)\n",
            "Requirement already satisfied: bleach in /usr/local/lib/python3.6/dist-packages (from nbconvert->notebook>=4.4.1->widgetsnbextension~=3.5.0->ipywidgets>=7.3.0; extra == \"visualization\"->qiskit[visualization]) (3.2.0)\n",
            "Requirement already satisfied: packaging in /usr/local/lib/python3.6/dist-packages (from bleach->nbconvert->notebook>=4.4.1->widgetsnbextension~=3.5.0->ipywidgets>=7.3.0; extra == \"visualization\"->qiskit[visualization]) (20.4)\n",
            "Requirement already satisfied: webencodings in /usr/local/lib/python3.6/dist-packages (from bleach->nbconvert->notebook>=4.4.1->widgetsnbextension~=3.5.0->ipywidgets>=7.3.0; extra == \"visualization\"->qiskit[visualization]) (0.5.1)\n",
            "Building wheels for collected packages: pylatexenc\n",
            "  Building wheel for pylatexenc (setup.py) ... \u001b[?25l\u001b[?25hdone\n",
            "  Created wheel for pylatexenc: filename=pylatexenc-2.7-cp36-none-any.whl size=130764 sha256=3df2cbd8d996f39e480f29d71864e0e77e4b29d2d052c142a67d476b83c71340\n",
            "  Stored in directory: /root/.cache/pip/wheels/d3/e6/ca/261bd01506ba7e835ed21bfec202389cf670198b87cde58a84\n",
            "Successfully built pylatexenc\n",
            "Installing collected packages: pylatexenc\n",
            "Successfully installed pylatexenc-2.7\n"
          ],
          "name": "stdout"
        }
      ]
    },
    {
      "cell_type": "code",
      "metadata": {
        "id": "poG0tEvwT1_0",
        "colab_type": "code",
        "colab": {}
      },
      "source": [
        "import pennylane as qml\n",
        "from pennylane import numpy as np"
      ],
      "execution_count": null,
      "outputs": []
    },
    {
      "cell_type": "code",
      "metadata": {
        "id": "VXo9hWFHUVDw",
        "colab_type": "code",
        "colab": {}
      },
      "source": [
        "dev = qml.device(\"default.qubit\", analytic=True, wires=2)"
      ],
      "execution_count": null,
      "outputs": []
    },
    {
      "cell_type": "markdown",
      "metadata": {
        "id": "LPm2kNcZkx4u",
        "colab_type": "text"
      },
      "source": [
        "### Gradient Descent\n",
        "As per the given task wherein we were asked to build a circuit which gives an equal probability of |01> + |10> states using CNOT, RX and RY gates, a circuit has been made here with random states.\n",
        "\n",
        "This circuit is used to implement gradient descent in order to find the optimal parameters.\n",
        "PauliZ is used to provide the circuit with expected values to enable optimisation ahead."
      ]
    },
    {
      "cell_type": "code",
      "metadata": {
        "id": "ctMDJH-WUX3b",
        "colab_type": "code",
        "colab": {}
      },
      "source": [
        "@qml.qnode(dev)\n",
        "def circuit(params):\n",
        "    qml.RX(params[0], wires=[0])\n",
        "    qml.CNOT(wires=[0, 1])\n",
        "    qml.RY(params[1], wires=[0])\n",
        "    qml.CNOT(wires=[0, 1])\n",
        "    return qml.expval(qml.PauliZ(0))"
      ],
      "execution_count": null,
      "outputs": []
    },
    {
      "cell_type": "code",
      "metadata": {
        "id": "EuoLGk0Hcvl3",
        "colab_type": "code",
        "colab": {
          "base_uri": "https://localhost:8080/",
          "height": 35
        },
        "outputId": "84446518-e592-498d-ad56-93dc6e5171c9"
      },
      "source": [
        "print(circuit([0.54, 0.12]))"
      ],
      "execution_count": null,
      "outputs": [
        {
          "output_type": "stream",
          "text": [
            "0.8515405859048367\n"
          ],
          "name": "stdout"
        }
      ]
    },
    {
      "cell_type": "code",
      "metadata": {
        "id": "BhX7ynyXUahR",
        "colab_type": "code",
        "colab": {
          "base_uri": "https://localhost:8080/",
          "height": 71
        },
        "outputId": "cd362b51-c5a5-43eb-9245-50bdf2b920b9"
      },
      "source": [
        "print(circuit.draw())"
      ],
      "execution_count": null,
      "outputs": [
        {
          "output_type": "stream",
          "text": [
            " 0: ──RX(0.54)──╭C──RY(0.12)──╭C──┤ ⟨Z⟩ \n",
            " 1: ────────────╰X────────────╰X──┤     \n",
            "\n"
          ],
          "name": "stdout"
        }
      ]
    },
    {
      "cell_type": "code",
      "metadata": {
        "id": "h0moNjo6Uomz",
        "colab_type": "code",
        "colab": {}
      },
      "source": [
        "def cost(x):\n",
        "    return circuit(x)"
      ],
      "execution_count": null,
      "outputs": []
    },
    {
      "cell_type": "code",
      "metadata": {
        "id": "DJNMCczgUsya",
        "colab_type": "code",
        "colab": {
          "base_uri": "https://localhost:8080/",
          "height": 35
        },
        "outputId": "492a28cd-b57e-4087-c6d8-d548755beb4b"
      },
      "source": [
        "init_params = np.array([0.011, 0.012])\n",
        "print(cost(init_params))"
      ],
      "execution_count": null,
      "outputs": [
        {
          "output_type": "stream",
          "text": [
            "0.9998675058299389\n"
          ],
          "name": "stdout"
        }
      ]
    },
    {
      "cell_type": "markdown",
      "metadata": {
        "id": "laNcCbFtlGfK",
        "colab_type": "text"
      },
      "source": [
        "Implementing the GradentDescentOptimizer function on the circuit parameters."
      ]
    },
    {
      "cell_type": "code",
      "metadata": {
        "id": "mWBYqK5QU043",
        "colab_type": "code",
        "colab": {
          "base_uri": "https://localhost:8080/",
          "height": 392
        },
        "outputId": "be9d1ca3-1e1c-4b21-c125-f892d7d51c7e"
      },
      "source": [
        "# initialise the optimizer\n",
        "opt = qml.GradientDescentOptimizer(stepsize=0.4)\n",
        "\n",
        "# set the number of steps\n",
        "steps = 100\n",
        "# set the initial parameter values\n",
        "params = init_params\n",
        "\n",
        "for i in range(steps):\n",
        "    # update the circuit parameters\n",
        "    params = opt.step(cost, params)\n",
        "\n",
        "    if (i + 1) % 5 == 0:\n",
        "        print(\"Cost after step {:5d}: {: .7f}\".format(i + 1, cost(params)))\n",
        "\n",
        "print(\"Optimized rotation angles: {}\".format(params))"
      ],
      "execution_count": null,
      "outputs": [
        {
          "output_type": "stream",
          "text": [
            "Cost after step     5:  0.9961778\n",
            "Cost after step    10:  0.8974944\n",
            "Cost after step    15:  0.1440490\n",
            "Cost after step    20: -0.1536720\n",
            "Cost after step    25: -0.9152496\n",
            "Cost after step    30: -0.9994046\n",
            "Cost after step    35: -0.9999964\n",
            "Cost after step    40: -1.0000000\n",
            "Cost after step    45: -1.0000000\n",
            "Cost after step    50: -1.0000000\n",
            "Cost after step    55: -1.0000000\n",
            "Cost after step    60: -1.0000000\n",
            "Cost after step    65: -1.0000000\n",
            "Cost after step    70: -1.0000000\n",
            "Cost after step    75: -1.0000000\n",
            "Cost after step    80: -1.0000000\n",
            "Cost after step    85: -1.0000000\n",
            "Cost after step    90: -1.0000000\n",
            "Cost after step    95: -1.0000000\n",
            "Cost after step   100: -1.0000000\n",
            "Optimized rotation angles: [8.14739648e-17 3.14159265e+00]\n"
          ],
          "name": "stdout"
        }
      ]
    },
    {
      "cell_type": "markdown",
      "metadata": {
        "id": "QwhTQm9Zlgan",
        "colab_type": "text"
      },
      "source": [
        "After GradientDescent optimizer, we got our required parameters in radiants \n",
        "that is theta(8.14739648e-17) which is tending to zero and phi(3.14159265e+00) which is tending to pi.\n",
        "\n",
        "We have used those parameters in the above circuit that returns |01> and |10> with equal probability.  \n",
        "### Circuit Implementation"
      ]
    },
    {
      "cell_type": "code",
      "metadata": {
        "id": "3nFMb6v_mBPB",
        "colab_type": "code",
        "colab": {}
      },
      "source": [
        "%matplotlib inline\n",
        "# Importing standard Qiskit libraries and configuring account\n",
        "from qiskit import QuantumCircuit, execute, Aer, IBMQ\n",
        "from qiskit.compiler import transpile, assemble\n",
        "from qiskit.tools.jupyter import *\n",
        "from qiskit.visualization import *\n",
        "from qiskit import QuantumRegister, ClassicalRegister, QuantumCircuit\n",
        "from numpy import pi"
      ],
      "execution_count": null,
      "outputs": []
    },
    {
      "cell_type": "code",
      "metadata": {
        "id": "zslXcpxrmFSM",
        "colab_type": "code",
        "colab": {}
      },
      "source": [
        "simulator = Aer.get_backend('qasm_simulator')\n",
        "qreg_q = QuantumRegister(2, 'q')\n",
        "creg_c = ClassicalRegister(2, 'c')\n",
        "circuit = QuantumCircuit(qreg_q, creg_c)"
      ],
      "execution_count": null,
      "outputs": []
    },
    {
      "cell_type": "markdown",
      "metadata": {
        "id": "3aCcKSeZmWTl",
        "colab_type": "text"
      },
      "source": [
        "\n",
        "\n",
        "The required circuit is structured as follows:\n",
        "\n",
        "\n",
        "*   First Rx gate is used in qubit 0 that results in state |01> at a phase angle of (0) with 100% probability.\n",
        "*   Following which a CNOT gate was applied, whose controll is given to qubit0 and the target is qubit 1. \n",
        "The purpose of using the CNOT gate was to flip the state of qubit 1.\n",
        "The result of which is state vector |11> at a phase angle of (3*pi/2).\n",
        "\n",
        "*   After that Ry is apllied to qubit 0 that results in two state vectors |10> +|11>. Since Ry is applied to qubit 0, the probabilty that q0 is in |1> is 50% and after applying CNOT, the probability of q1 to be in |1> is 100%.\n",
        "*   At last, to get the desired output of equal probabilities of states |01> + |10>, a CNOT gate is applied to q0 with the control to q0 and traget to q1. Since the previous operation had made equal probailities of sates |0> and |1> in q0, the probabilities of states |0> and |1> in q1 will also be equal. And the final result will be |01> and |10> of equal probailities at phase angles of (pi/2) and (3*pi/2) respectively."
      ]
    },
    {
      "cell_type": "code",
      "metadata": {
        "id": "_inXHeYyVR3E",
        "colab_type": "code",
        "colab": {
          "base_uri": "https://localhost:8080/",
          "height": 35
        },
        "outputId": "8a9f9deb-77f0-46a9-accd-81086a765d60"
      },
      "source": [
        "circuit.rx(pi, qreg_q[0])\n",
        "circuit.cx(qreg_q[0], qreg_q[1])\n",
        "circuit.ry(pi/2, qreg_q[0])\n",
        "circuit.cx(qreg_q[0], qreg_q[1])\n",
        "circuit.measure(qreg_q[0], creg_c[0])\n",
        "circuit.measure(qreg_q[1], creg_c[1])"
      ],
      "execution_count": null,
      "outputs": [
        {
          "output_type": "execute_result",
          "data": {
            "text/plain": [
              "<qiskit.circuit.instructionset.InstructionSet at 0x7fd05518a908>"
            ]
          },
          "metadata": {
            "tags": []
          },
          "execution_count": 50
        }
      ]
    },
    {
      "cell_type": "code",
      "metadata": {
        "id": "1xBPrWVkYAzI",
        "colab_type": "code",
        "colab": {
          "base_uri": "https://localhost:8080/",
          "height": 185
        },
        "outputId": "73ac6cb8-3462-42e5-a88d-9759596970bf"
      },
      "source": [
        "circuit.draw('mpl')"
      ],
      "execution_count": null,
      "outputs": [
        {
          "output_type": "execute_result",
          "data": {
            "image/png": "[encoded data removed]",
            "text/plain": [
              "<Figure size 501.832x204.68 with 1 Axes>"
            ]
          },
          "metadata": {
            "tags": []
          },
          "execution_count": 18
        }
      ]
    },
    {
      "cell_type": "markdown",
      "metadata": {
        "id": "Onswm8knr_4x",
        "colab_type": "text"
      },
      "source": [
        "### Measuring on multiple shots (measurements)\n",
        "Using Qiskit visualization to plot the probabilities of the two state vectors |01> + |10> for different measurement counts (shots): 1, 10, 100, 1000."
      ]
    },
    {
      "cell_type": "code",
      "metadata": {
        "id": "HzFpB0uGmODh",
        "colab_type": "code",
        "colab": {}
      },
      "source": [
        "result1 = execute(circuit, simulator, shots=1).result()\n",
        "result2 = execute(circuit, simulator, shots=10).result()\n",
        "result3 = execute(circuit, simulator, shots=100).result()\n",
        "result4 = execute(circuit, simulator, shots=1000).result()\n",
        "\n",
        "counts1 = result1.get_counts(circuit)\n",
        "counts2 = result2.get_counts(circuit)\n",
        "counts3 = result3.get_counts(circuit)\n",
        "counts4 = result4.get_counts(circuit)"
      ],
      "execution_count": null,
      "outputs": []
    },
    {
      "cell_type": "code",
      "metadata": {
        "id": "RGZlw7P7q5b2",
        "colab_type": "code",
        "colab": {
          "base_uri": "https://localhost:8080/",
          "height": 331
        },
        "outputId": "bc9776a9-2a22-4865-b45c-7bbdcb24177d"
      },
      "source": [
        "plot_histogram(counts1)"
      ],
      "execution_count": null,
      "outputs": [
        {
          "output_type": "execute_result",
          "data": {
            "image/png": "[encoded data removed]",
            "text/plain": [
              "<Figure size 504x360 with 1 Axes>"
            ]
          },
          "metadata": {
            "tags": []
          },
          "execution_count": 53
        }
      ]
    },
    {
      "cell_type": "code",
      "metadata": {
        "id": "jNMel5iTq_sR",
        "colab_type": "code",
        "colab": {
          "base_uri": "https://localhost:8080/",
          "height": 337
        },
        "outputId": "4ed4b965-b6b4-4156-9ee1-8d7cd31cd434"
      },
      "source": [
        "plot_histogram(counts2)"
      ],
      "execution_count": null,
      "outputs": [
        {
          "output_type": "execute_result",
          "data": {
            "image/png": "[encoded data removed]",
            "text/plain": [
              "<Figure size 504x360 with 1 Axes>"
            ]
          },
          "metadata": {
            "tags": []
          },
          "execution_count": 54
        }
      ]
    },
    {
      "cell_type": "code",
      "metadata": {
        "id": "16D4Mcaaq_XR",
        "colab_type": "code",
        "colab": {
          "base_uri": "https://localhost:8080/",
          "height": 331
        },
        "outputId": "f4014abb-c599-426a-82e3-5a18a73efaf0"
      },
      "source": [
        "plot_histogram(counts3)"
      ],
      "execution_count": null,
      "outputs": [
        {
          "output_type": "execute_result",
          "data": {
            "image/png": "[encoded data removed]",
            "text/plain": [
              "<Figure size 504x360 with 1 Axes>"
            ]
          },
          "metadata": {
            "tags": []
          },
          "execution_count": 55
        }
      ]
    },
    {
      "cell_type": "code",
      "metadata": {
        "id": "xiYJVD78q-6z",
        "colab_type": "code",
        "colab": {
          "base_uri": "https://localhost:8080/",
          "height": 333
        },
        "outputId": "fdd9e6e0-3df2-4b8f-c691-c0ab05eee58c"
      },
      "source": [
        "plot_histogram(counts4)"
      ],
      "execution_count": null,
      "outputs": [
        {
          "output_type": "execute_result",
          "data": {
            "image/png": "[encoded data removed]",
            "text/plain": [
              "<Figure size 504x360 with 1 Axes>"
            ]
          },
          "metadata": {
            "tags": []
          },
          "execution_count": 56
        }
      ]
    },
    {
      "cell_type": "markdown",
      "metadata": {
        "id": "6mN1wVbbo5iw",
        "colab_type": "text"
      },
      "source": [
        "### Noise Simulation\n",
        "- Noise is simulated in this circuit using Qiskit's FakeVigo data.\n",
        "- A noise model is built on the backend device FakeVigo, which loads the noise data required for simulation.\n",
        "- The circuit is then executed with this noise model.\n",
        "- Errors occurring due to the simulated noise are then visualised via a histogram."
      ]
    },
    {
      "cell_type": "code",
      "metadata": {
        "id": "2LMNt-yXVtPI",
        "colab_type": "code",
        "colab": {
          "base_uri": "https://localhost:8080/",
          "height": 347
        },
        "outputId": "86f5bbeb-fb56-4bbe-fb53-c0f6cffbfb9a"
      },
      "source": [
        "from qiskit.providers.aer.noise import NoiseModel\n",
        "from qiskit.test.mock import FakeVigo\n",
        "device_backend = FakeVigo()\n",
        "\n",
        "# The device coupling map is needed for transpiling to correct\n",
        "# CNOT gates before simulation\n",
        "coupling_map = device_backend.configuration().coupling_map\n",
        "noise_model = NoiseModel.from_backend(device_backend)\n",
        "basis_gates = noise_model.basis_gates\n",
        "result_noise = execute(circuit, simulator,\n",
        "                       noise_model=noise_model,\n",
        "                       coupling_map=coupling_map,\n",
        "                       basis_gates=basis_gates\n",
        "                       ).result()\n",
        "counts_noise = result_noise.get_counts(circuit)\n",
        "plot_histogram(counts_noise,title=\"Probabilities of the two required states |01> + |10> along with noise simulation\")"
      ],
      "execution_count": null,
      "outputs": [
        {
          "output_type": "execute_result",
          "data": {
            "image/png": "[encoded data removed]",
            "text/plain": [
              "<Figure size 504x360 with 1 Axes>"
            ]
          },
          "metadata": {
            "tags": []
          },
          "execution_count": 19
        }
      ]
    },
    {
      "cell_type": "markdown",
      "metadata": {
        "id": "j7JthPh_vJVr",
        "colab_type": "text"
      },
      "source": [
        "### Conclusion\n",
        "A quantum circuit with the required probabilities and states is thus attained using Gradient Descent on Pennylane, and Measurements, Noise Simulation, and Visualization on Qiskit."
      ]
    },
    {
      "cell_type": "markdown",
      "metadata": {
        "id": "nfMkZ-a5tgj0",
        "colab_type": "text"
      },
      "source": [
        "### References\n",
        "\n",
        "\n",
        "- https://pennylane.ai/qml/demos/tutorial_qubit_rotation.html\n",
        "- https://pennylane.readthedocs.io/en/stable/introduction/circuits.html\n",
        "\n",
        "- https://quantum-computing.ibm.com/\n",
        "- https://qiskit.org/textbook/preface.html\n",
        "\n",
        "- https://qiskit.org/documentation/tutorials/simulators/2_device_noise_simulation.html   \n",
        "- https://pennylane.readthedocs.io/en/stable/introduction/measurements.html\n",
        "\n",
        "\n",
        "\n",
        "\n",
        "\n",
        "\n",
        "\n"
      ]
    },
    {
      "cell_type": "code",
      "metadata": {
        "id": "-ScxCKBlvZ_-",
        "colab_type": "code",
        "colab": {}
      },
      "source": [
        ""
      ],
      "execution_count": null,
      "outputs": []
    }
  ]
}